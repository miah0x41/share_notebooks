{
  "nbformat": 4,
  "nbformat_minor": 0,
  "metadata": {
    "colab": {
      "provenance": [],
      "authorship_tag": "ABX9TyOisDR+izPKjV8+RbEftv0/",
      "include_colab_link": true
    },
    "kernelspec": {
      "name": "python3",
      "display_name": "Python 3"
    },
    "language_info": {
      "name": "python"
    }
  },
  "cells": [
    {
      "cell_type": "markdown",
      "metadata": {
        "id": "view-in-github",
        "colab_type": "text"
      },
      "source": [
        "<a href=\"https://colab.research.google.com/github/miah0x41/share_notebooks/blob/main/MOT_Exploration.ipynb\" target=\"_parent\"><img src=\"https://colab.research.google.com/assets/colab-badge.svg\" alt=\"Open In Colab\"/></a>"
      ]
    },
    {
      "cell_type": "code",
      "execution_count": 2,
      "metadata": {
        "colab": {
          "base_uri": "https://localhost:8080/"
        },
        "id": "--NZxFwHnVX9",
        "outputId": "b7a24fec-8cf0-4f93-b295-0565b8c4be0f"
      },
      "outputs": [
        {
          "output_type": "stream",
          "name": "stdout",
          "text": [
            "/content\n"
          ]
        }
      ],
      "source": [
        "# Check local directory\n",
        "!pwd"
      ]
    },
    {
      "cell_type": "code",
      "source": [
        "# Download data\n",
        "!wget https://data.dft.gov.uk/anonymised-mot-test/test_data/dft_test_result_2022.zip "
      ],
      "metadata": {
        "colab": {
          "base_uri": "https://localhost:8080/"
        },
        "id": "RrQtmEHmndng",
        "outputId": "09e6cb10-b158-4d74-eaee-11d5d959e96e"
      },
      "execution_count": 3,
      "outputs": [
        {
          "output_type": "stream",
          "name": "stdout",
          "text": [
            "--2023-06-04 12:35:03--  https://data.dft.gov.uk/anonymised-mot-test/test_data/dft_test_result_2022.zip\n",
            "Resolving data.dft.gov.uk (data.dft.gov.uk)... 34.117.178.183\n",
            "Connecting to data.dft.gov.uk (data.dft.gov.uk)|34.117.178.183|:443... connected.\n",
            "HTTP request sent, awaiting response... 200 OK\n",
            "Length: 1177620475 (1.1G) [application/x-zip-compressed]\n",
            "Saving to: ‘dft_test_result_2022.zip’\n",
            "\n",
            "dft_test_result_202 100%[===================>]   1.10G  13.7MB/s    in 83s     \n",
            "\n",
            "2023-06-04 12:36:26 (13.5 MB/s) - ‘dft_test_result_2022.zip’ saved [1177620475/1177620475]\n",
            "\n"
          ]
        }
      ]
    },
    {
      "cell_type": "code",
      "source": [
        "# Check file\n",
        "!ls"
      ],
      "metadata": {
        "colab": {
          "base_uri": "https://localhost:8080/"
        },
        "id": "I39YKolBn6em",
        "outputId": "b2c7f3c9-f71e-4056-c14e-a0c6711725e1"
      },
      "execution_count": 4,
      "outputs": [
        {
          "output_type": "stream",
          "name": "stdout",
          "text": [
            "dft_test_result_2022.zip  sample_data\n"
          ]
        }
      ]
    },
    {
      "cell_type": "code",
      "source": [
        "# Unzip\n",
        "!unzip dft_test_result_2022.zip"
      ],
      "metadata": {
        "colab": {
          "base_uri": "https://localhost:8080/"
        },
        "id": "xZGkqiDuoAyX",
        "outputId": "4ebdfaf0-292b-4ed2-d463-eb2598a4b7f8"
      },
      "execution_count": 5,
      "outputs": [
        {
          "output_type": "stream",
          "name": "stdout",
          "text": [
            "Archive:  dft_test_result_2022.zip\n",
            "  inflating: test_result.csv         \n",
            "  inflating: __MACOSX/._test_result.csv  \n"
          ]
        }
      ]
    },
    {
      "cell_type": "code",
      "source": [
        "# Check files\n",
        "!ls -lh"
      ],
      "metadata": {
        "colab": {
          "base_uri": "https://localhost:8080/"
        },
        "id": "yUsiMp_woMKz",
        "outputId": "9d2d2939-d259-44fd-a15d-4daf63195e67"
      },
      "execution_count": 6,
      "outputs": [
        {
          "output_type": "stream",
          "name": "stdout",
          "text": [
            "total 4.5G\n",
            "-rw-r--r-- 1 root root 1.1G Jun  4 12:36 dft_test_result_2022.zip\n",
            "drwxr-xr-x 2 root root 4.0K Jun  4 12:37 __MACOSX\n",
            "drwxr-xr-x 1 root root 4.0K Jun  1 22:51 sample_data\n",
            "-rw-r--r-- 1 root root 3.4G Mar 14 09:13 test_result.csv\n"
          ]
        }
      ]
    },
    {
      "cell_type": "code",
      "source": [
        "# Count lines\n",
        "!cat test_result.csv | wc -l"
      ],
      "metadata": {
        "colab": {
          "base_uri": "https://localhost:8080/"
        },
        "id": "F3WBNwmGpjz-",
        "outputId": "82b5d03d-4909-40ee-9d9c-b52b4bd7d2b8"
      },
      "execution_count": 7,
      "outputs": [
        {
          "output_type": "stream",
          "name": "stdout",
          "text": [
            "41632231\n"
          ]
        }
      ]
    },
    {
      "cell_type": "code",
      "source": [
        "# Sample 100k\n",
        "!head -n 1000000 test_result.csv > sample.csv"
      ],
      "metadata": {
        "id": "0WTsJwu6pjMV"
      },
      "execution_count": 8,
      "outputs": []
    },
    {
      "cell_type": "code",
      "source": [
        "!cat sample.csv | wc -l"
      ],
      "metadata": {
        "colab": {
          "base_uri": "https://localhost:8080/"
        },
        "id": "eF1apsTZZun-",
        "outputId": "a2438e5c-0b8f-4e17-d5d5-12bbd46f51df"
      },
      "execution_count": 9,
      "outputs": [
        {
          "output_type": "stream",
          "name": "stdout",
          "text": [
            "1000000\n"
          ]
        }
      ]
    },
    {
      "cell_type": "markdown",
      "source": [
        "# Explore Data"
      ],
      "metadata": {
        "id": "KrHfDodaaWzk"
      }
    },
    {
      "cell_type": "code",
      "source": [
        "# Check imports\n",
        "import pandas as pd"
      ],
      "metadata": {
        "id": "OrpeCyJSoFgo"
      },
      "execution_count": 10,
      "outputs": []
    },
    {
      "cell_type": "markdown",
      "source": [],
      "metadata": {
        "id": "gWsmJ4WaaU9k"
      }
    },
    {
      "cell_type": "code",
      "source": [
        "# Preview file\n",
        "!head sample.csv"
      ],
      "metadata": {
        "colab": {
          "base_uri": "https://localhost:8080/"
        },
        "id": "q79ZfpbNowOx",
        "outputId": "4b0a7f5d-5eb7-4cb8-ce8e-6ec1fe5fb2a8"
      },
      "execution_count": 11,
      "outputs": [
        {
          "output_type": "stream",
          "name": "stdout",
          "text": [
            "test_id|vehicle_id|test_date|test_class_id|test_type|test_result|test_mileage|postcode_area|make|model|colour|fuel_type|cylinder_capacity|first_use_date\n",
            "334683447|634775234|2022-01-01|4|NT|P|227219|E|TOYOTA|PRIUS|SILVER|Hybrid Electric (Clean)|1497|2008-01-17\n",
            "586095521|1220215709|2022-01-01|4|NT|P|136552|CR|TOYOTA|PRIUS|GREY|Hybrid Electric (Clean)|1798|2013-11-29\n",
            "960974211|1315791989|2022-01-01|4|NT|F|129847|E|TOYOTA|PRIUS|WHITE|Hybrid Electric (Clean)|1798|2018-01-01\n",
            "1041792341|1144451355|2022-01-01|4|NT|P|123133|TW|TOYOTA|PRIUS|SILVER|Hybrid Electric (Clean)|1496|2016-11-21\n",
            "1587264975|1315791989|2022-01-01|4|RT|P|129848|E|TOYOTA|PRIUS|WHITE|Hybrid Electric (Clean)|1798|2018-01-01\n",
            "1032834657|1310098304|2022-01-01|4|NT|PRS|238117|IG|TOYOTA|PRIUS|BLACK|Hybrid Electric (Clean)|1798|2012-06-29\n",
            "51919479|483214935|2022-01-01|4|NT|P|110322|E|TOYOTA|PRIUS|SILVER|Hybrid Electric (Clean)|1800|2017-04-01\n",
            "1616476935|1262912232|2022-01-01|4|NT|P|161933|BD|TOYOTA|PRIUS|SILVER|Hybrid Electric (Clean)|1497|2005-12-30\n",
            "640040599|302221893|2022-01-01|4|NT|P|47101|IG|TOYOTA|PRIUS|SILVER|Hybrid Electric (Clean)|1797|2016-06-28\n"
          ]
        }
      ]
    },
    {
      "cell_type": "code",
      "source": [
        "# Read file\n",
        "%%time\n",
        "\n",
        "df = pd.read_csv('sample.csv', sep='|')"
      ],
      "metadata": {
        "colab": {
          "base_uri": "https://localhost:8080/"
        },
        "id": "a2sASYyyoJoX",
        "outputId": "3c0e84d8-4b55-433e-ce5b-6b2b214401ee"
      },
      "execution_count": 12,
      "outputs": [
        {
          "output_type": "stream",
          "name": "stdout",
          "text": [
            "CPU times: user 2.03 s, sys: 579 ms, total: 2.61 s\n",
            "Wall time: 2.66 s\n"
          ]
        }
      ]
    },
    {
      "cell_type": "code",
      "source": [
        "# Preview\n",
        "df.head()"
      ],
      "metadata": {
        "colab": {
          "base_uri": "https://localhost:8080/",
          "height": 337
        },
        "id": "dYb1EkOLopZ4",
        "outputId": "5ffd74ad-b11f-4e1c-ba4d-ccfbaae1d251"
      },
      "execution_count": 13,
      "outputs": [
        {
          "output_type": "execute_result",
          "data": {
            "text/plain": [
              "      test_id  vehicle_id   test_date  test_class_id test_type test_result  \\\n",
              "0   334683447   634775234  2022-01-01              4        NT           P   \n",
              "1   586095521  1220215709  2022-01-01              4        NT           P   \n",
              "2   960974211  1315791989  2022-01-01              4        NT           F   \n",
              "3  1041792341  1144451355  2022-01-01              4        NT           P   \n",
              "4  1587264975  1315791989  2022-01-01              4        RT           P   \n",
              "\n",
              "   test_mileage postcode_area    make  model  colour                fuel_type  \\\n",
              "0      227219.0             E  TOYOTA  PRIUS  SILVER  Hybrid Electric (Clean)   \n",
              "1      136552.0            CR  TOYOTA  PRIUS    GREY  Hybrid Electric (Clean)   \n",
              "2      129847.0             E  TOYOTA  PRIUS   WHITE  Hybrid Electric (Clean)   \n",
              "3      123133.0            TW  TOYOTA  PRIUS  SILVER  Hybrid Electric (Clean)   \n",
              "4      129848.0             E  TOYOTA  PRIUS   WHITE  Hybrid Electric (Clean)   \n",
              "\n",
              "   cylinder_capacity first_use_date  \n",
              "0             1497.0     2008-01-17  \n",
              "1             1798.0     2013-11-29  \n",
              "2             1798.0     2018-01-01  \n",
              "3             1496.0     2016-11-21  \n",
              "4             1798.0     2018-01-01  "
            ],
            "text/html": [
              "\n",
              "  <div id=\"df-f2c606ae-c07f-412b-9a6c-8825f7b1c44b\">\n",
              "    <div class=\"colab-df-container\">\n",
              "      <div>\n",
              "<style scoped>\n",
              "    .dataframe tbody tr th:only-of-type {\n",
              "        vertical-align: middle;\n",
              "    }\n",
              "\n",
              "    .dataframe tbody tr th {\n",
              "        vertical-align: top;\n",
              "    }\n",
              "\n",
              "    .dataframe thead th {\n",
              "        text-align: right;\n",
              "    }\n",
              "</style>\n",
              "<table border=\"1\" class=\"dataframe\">\n",
              "  <thead>\n",
              "    <tr style=\"text-align: right;\">\n",
              "      <th></th>\n",
              "      <th>test_id</th>\n",
              "      <th>vehicle_id</th>\n",
              "      <th>test_date</th>\n",
              "      <th>test_class_id</th>\n",
              "      <th>test_type</th>\n",
              "      <th>test_result</th>\n",
              "      <th>test_mileage</th>\n",
              "      <th>postcode_area</th>\n",
              "      <th>make</th>\n",
              "      <th>model</th>\n",
              "      <th>colour</th>\n",
              "      <th>fuel_type</th>\n",
              "      <th>cylinder_capacity</th>\n",
              "      <th>first_use_date</th>\n",
              "    </tr>\n",
              "  </thead>\n",
              "  <tbody>\n",
              "    <tr>\n",
              "      <th>0</th>\n",
              "      <td>334683447</td>\n",
              "      <td>634775234</td>\n",
              "      <td>2022-01-01</td>\n",
              "      <td>4</td>\n",
              "      <td>NT</td>\n",
              "      <td>P</td>\n",
              "      <td>227219.0</td>\n",
              "      <td>E</td>\n",
              "      <td>TOYOTA</td>\n",
              "      <td>PRIUS</td>\n",
              "      <td>SILVER</td>\n",
              "      <td>Hybrid Electric (Clean)</td>\n",
              "      <td>1497.0</td>\n",
              "      <td>2008-01-17</td>\n",
              "    </tr>\n",
              "    <tr>\n",
              "      <th>1</th>\n",
              "      <td>586095521</td>\n",
              "      <td>1220215709</td>\n",
              "      <td>2022-01-01</td>\n",
              "      <td>4</td>\n",
              "      <td>NT</td>\n",
              "      <td>P</td>\n",
              "      <td>136552.0</td>\n",
              "      <td>CR</td>\n",
              "      <td>TOYOTA</td>\n",
              "      <td>PRIUS</td>\n",
              "      <td>GREY</td>\n",
              "      <td>Hybrid Electric (Clean)</td>\n",
              "      <td>1798.0</td>\n",
              "      <td>2013-11-29</td>\n",
              "    </tr>\n",
              "    <tr>\n",
              "      <th>2</th>\n",
              "      <td>960974211</td>\n",
              "      <td>1315791989</td>\n",
              "      <td>2022-01-01</td>\n",
              "      <td>4</td>\n",
              "      <td>NT</td>\n",
              "      <td>F</td>\n",
              "      <td>129847.0</td>\n",
              "      <td>E</td>\n",
              "      <td>TOYOTA</td>\n",
              "      <td>PRIUS</td>\n",
              "      <td>WHITE</td>\n",
              "      <td>Hybrid Electric (Clean)</td>\n",
              "      <td>1798.0</td>\n",
              "      <td>2018-01-01</td>\n",
              "    </tr>\n",
              "    <tr>\n",
              "      <th>3</th>\n",
              "      <td>1041792341</td>\n",
              "      <td>1144451355</td>\n",
              "      <td>2022-01-01</td>\n",
              "      <td>4</td>\n",
              "      <td>NT</td>\n",
              "      <td>P</td>\n",
              "      <td>123133.0</td>\n",
              "      <td>TW</td>\n",
              "      <td>TOYOTA</td>\n",
              "      <td>PRIUS</td>\n",
              "      <td>SILVER</td>\n",
              "      <td>Hybrid Electric (Clean)</td>\n",
              "      <td>1496.0</td>\n",
              "      <td>2016-11-21</td>\n",
              "    </tr>\n",
              "    <tr>\n",
              "      <th>4</th>\n",
              "      <td>1587264975</td>\n",
              "      <td>1315791989</td>\n",
              "      <td>2022-01-01</td>\n",
              "      <td>4</td>\n",
              "      <td>RT</td>\n",
              "      <td>P</td>\n",
              "      <td>129848.0</td>\n",
              "      <td>E</td>\n",
              "      <td>TOYOTA</td>\n",
              "      <td>PRIUS</td>\n",
              "      <td>WHITE</td>\n",
              "      <td>Hybrid Electric (Clean)</td>\n",
              "      <td>1798.0</td>\n",
              "      <td>2018-01-01</td>\n",
              "    </tr>\n",
              "  </tbody>\n",
              "</table>\n",
              "</div>\n",
              "      <button class=\"colab-df-convert\" onclick=\"convertToInteractive('df-f2c606ae-c07f-412b-9a6c-8825f7b1c44b')\"\n",
              "              title=\"Convert this dataframe to an interactive table.\"\n",
              "              style=\"display:none;\">\n",
              "        \n",
              "  <svg xmlns=\"http://www.w3.org/2000/svg\" height=\"24px\"viewBox=\"0 0 24 24\"\n",
              "       width=\"24px\">\n",
              "    <path d=\"M0 0h24v24H0V0z\" fill=\"none\"/>\n",
              "    <path d=\"M18.56 5.44l.94 2.06.94-2.06 2.06-.94-2.06-.94-.94-2.06-.94 2.06-2.06.94zm-11 1L8.5 8.5l.94-2.06 2.06-.94-2.06-.94L8.5 2.5l-.94 2.06-2.06.94zm10 10l.94 2.06.94-2.06 2.06-.94-2.06-.94-.94-2.06-.94 2.06-2.06.94z\"/><path d=\"M17.41 7.96l-1.37-1.37c-.4-.4-.92-.59-1.43-.59-.52 0-1.04.2-1.43.59L10.3 9.45l-7.72 7.72c-.78.78-.78 2.05 0 2.83L4 21.41c.39.39.9.59 1.41.59.51 0 1.02-.2 1.41-.59l7.78-7.78 2.81-2.81c.8-.78.8-2.07 0-2.86zM5.41 20L4 18.59l7.72-7.72 1.47 1.35L5.41 20z\"/>\n",
              "  </svg>\n",
              "      </button>\n",
              "      \n",
              "  <style>\n",
              "    .colab-df-container {\n",
              "      display:flex;\n",
              "      flex-wrap:wrap;\n",
              "      gap: 12px;\n",
              "    }\n",
              "\n",
              "    .colab-df-convert {\n",
              "      background-color: #E8F0FE;\n",
              "      border: none;\n",
              "      border-radius: 50%;\n",
              "      cursor: pointer;\n",
              "      display: none;\n",
              "      fill: #1967D2;\n",
              "      height: 32px;\n",
              "      padding: 0 0 0 0;\n",
              "      width: 32px;\n",
              "    }\n",
              "\n",
              "    .colab-df-convert:hover {\n",
              "      background-color: #E2EBFA;\n",
              "      box-shadow: 0px 1px 2px rgba(60, 64, 67, 0.3), 0px 1px 3px 1px rgba(60, 64, 67, 0.15);\n",
              "      fill: #174EA6;\n",
              "    }\n",
              "\n",
              "    [theme=dark] .colab-df-convert {\n",
              "      background-color: #3B4455;\n",
              "      fill: #D2E3FC;\n",
              "    }\n",
              "\n",
              "    [theme=dark] .colab-df-convert:hover {\n",
              "      background-color: #434B5C;\n",
              "      box-shadow: 0px 1px 3px 1px rgba(0, 0, 0, 0.15);\n",
              "      filter: drop-shadow(0px 1px 2px rgba(0, 0, 0, 0.3));\n",
              "      fill: #FFFFFF;\n",
              "    }\n",
              "  </style>\n",
              "\n",
              "      <script>\n",
              "        const buttonEl =\n",
              "          document.querySelector('#df-f2c606ae-c07f-412b-9a6c-8825f7b1c44b button.colab-df-convert');\n",
              "        buttonEl.style.display =\n",
              "          google.colab.kernel.accessAllowed ? 'block' : 'none';\n",
              "\n",
              "        async function convertToInteractive(key) {\n",
              "          const element = document.querySelector('#df-f2c606ae-c07f-412b-9a6c-8825f7b1c44b');\n",
              "          const dataTable =\n",
              "            await google.colab.kernel.invokeFunction('convertToInteractive',\n",
              "                                                     [key], {});\n",
              "          if (!dataTable) return;\n",
              "\n",
              "          const docLinkHtml = 'Like what you see? Visit the ' +\n",
              "            '<a target=\"_blank\" href=https://colab.research.google.com/notebooks/data_table.ipynb>data table notebook</a>'\n",
              "            + ' to learn more about interactive tables.';\n",
              "          element.innerHTML = '';\n",
              "          dataTable['output_type'] = 'display_data';\n",
              "          await google.colab.output.renderOutput(dataTable, element);\n",
              "          const docLink = document.createElement('div');\n",
              "          docLink.innerHTML = docLinkHtml;\n",
              "          element.appendChild(docLink);\n",
              "        }\n",
              "      </script>\n",
              "    </div>\n",
              "  </div>\n",
              "  "
            ]
          },
          "metadata": {},
          "execution_count": 13
        }
      ]
    },
    {
      "cell_type": "code",
      "source": [
        "# Determine unique car manufacturers\n",
        "df.make.unique()"
      ],
      "metadata": {
        "colab": {
          "base_uri": "https://localhost:8080/"
        },
        "id": "FmLQvkAaqH7-",
        "outputId": "9d53d632-dc97-44d5-bc23-4a3480f7c661"
      },
      "execution_count": 14,
      "outputs": [
        {
          "output_type": "execute_result",
          "data": {
            "text/plain": [
              "array(['TOYOTA', 'NISSAN', 'TESLA', 'LEXUS', 'FORD', 'MITSUBISHI', 'MINI',\n",
              "       'VOLKSWAGEN', 'RENAULT', 'VAUXHALL', 'SEAT', 'BMW', 'KIA',\n",
              "       'DODGE (USA)', 'MERCEDES-BENZ', 'PORSCHE', 'YAMAHA', 'PEUGEOT',\n",
              "       'AUDI', 'TRIUMPH', 'JAGUAR', 'MAZDA', 'LAND ROVER', 'FIAT',\n",
              "       'HUSQVARNA', 'CITROEN', 'HONDA', 'HYUNDAI', 'VOLVO', 'CHEVROLET',\n",
              "       'DACIA', 'SAAB', 'SKODA', 'SUZUKI', 'SMART (MCC)', 'GILERA',\n",
              "       'CHRYSLER-JEEP', 'JEEP', 'DAEWOO', 'SUBARU', 'ISUZU TRUCKS',\n",
              "       'ALFA ROMEO', 'PROTON', 'BANDIT 1200 CUSTOM ', 'KTM', 'HYMER',\n",
              "       'DS', 'INFINITI', 'LEVC', 'KAWASAKI', 'SSANGYONG', 'MG', 'ABARTH',\n",
              "       'PULSE', 'DAIHATSU', 'ROVER', 'BENTLEY', 'WESTFIELD', 'ISUZU',\n",
              "       'IVECO', 'DODGE', 'SYM', 'GREAT WALL', 'HYOSUNG', 'AUTO-TRAIL',\n",
              "       'CATERHAM', 'CHRYSLER', 'VICTORY', 'LONDON TAXIS INT',\n",
              "       'ASTON MARTIN', 'ROYAL ENFIELD', 'MERCEDES', 'GENERAL MOTORS',\n",
              "       'LEXMOTO', 'LOTUS', 'HARLEY DAVIDSON',\n",
              "       'LAND ROVER FREELANDER GS TD4', 'SMART FORTWO PASSION MHD AUTO',\n",
              "       'PIAGGIO', 'SMC', 'DVSA', 'JIANSHE', 'LDV', 'WK BIKES', 'ZONTES',\n",
              "       'AJS', 'MASERATI', 'IVECO-FORD', 'SMART FORTWO PASSION AUTO',\n",
              "       'DONGFENG', 'MORGAN', 'CADILLAC', 'SMART', 'HARLEY-DAVIDSON',\n",
              "       'SCUTUM', 'LAMBORGHINI', 'WINNEBAGO', 'FERRARI', 'DUCATI',\n",
              "       'MARLIN', 'ALKO-KOVER DERCKS ALKO', 'LML', 'MAN', 'TALBOT',\n",
              "       'ROLLS ROYCE', 'DAF TRUCKS', 'MORRIS', 'MCC', 'MOTO GUZZI',\n",
              "       'MICROCAR', 'DATSUN', 'DFSK', 'LONDONTAXISINTERNATIONAL', 'KYMCO',\n",
              "       'APRILIA', 'SINNIS', 'WHITE KNUCKLE', 'LONGJIA', 'PONTIAC',\n",
              "       'LAMBRETTA', 'UM', 'PERODUA', 'REVA', 'DIRECT BIKES', 'DAIMLER',\n",
              "       'AUDI A3 SPORTBACK 2.0 TDI', 'MOTORINI', 'BETA', 'LEYLAND DAF',\n",
              "       'BAOTIAN', 'STEYR PUCH', 'KSR Moto', 'LANCIA', 'RENAULT TRUCKS',\n",
              "       'SWIFT GROUP LTD', 'TGB', 'AJP', 'EASY RIDER', 'GENERIC',\n",
              "       'MV AGUSTA', 'HOBBY VANTANA K60T', 'TVR', 'HANWAY', 'GAS GAS',\n",
              "       'INDIAN', 'RIEJU', 'MONTESA', 'BEDFORD', 'VESPA', 'BETAMOTOR',\n",
              "       'AUSTIN', 'HAWK', 'STREET SCOOTER', 'MITSUBISHI FUSO', 'DAELIM',\n",
              "       'JINLUN', 'LAND ROVER RANGE ROVER V8 SUPERCHARGED',\n",
              "       'THE EXPLORER GROUP', 'SCOMADI', 'DUFFY E220 BLUE TEC',\n",
              "       'VOLKSWAGEN GOLF VR6 DOHC 2.8L', 'ERWIN HYMER GROUP UK',\n",
              "       'PEUGEOT PREMIER SE', 'ZNEN', 'ROYAL ALLOY', 'OPEL',\n",
              "       'CHRYSLER JEEP', 'QUADZILLA', 'BULLIT', 'RELIANT', 'MOTORHOME',\n",
              "       'LAND ROVER RANGE ROVER VOGUE TDV8 3.6', 'GMC', 'RICKMAN',\n",
              "       'MCLAREN', 'SMART FORTWO PASSION CDI AUTO', 'BRISTOL', 'KEEWAY',\n",
              "       'LADA', 'BUELL', 'BRISTOL    (BLMC)', 'AIXAM', 'ARIIC JL125T-12',\n",
              "       'PLYMOUTH', 'UNCLASSIFIED UNCLASSIFIED', 'CHEVROLET GMC',\n",
              "       'BMW 116D EFFICIENTDYNAMICS', 'NECO', 'ALPINE',\n",
              "       'MERCEDES-BENZ SLK250 CDI BLUEEFFICIENCY AUTO', 'PHILLIPS',\n",
              "       'BMW 520D SE 2.0L', 'BURSTNER', 'MAYBACH', 'SKYTEAM',\n",
              "       'MERCEDES BENZ A160 SE CLASSIC 1.5L', 'CAGIVA', 'MUTT',\n",
              "       'VESPA (DOUGLAS)', 'SMART FORTWO PULSE MHD AUTO', 'DERBI',\n",
              "       'RENAULT TRUCKS MASTER 125.35 LWB', 'CHAUSSON', 'ZONGSHEN',\n",
              "       'GO-KART', 'HERALD MOTOR COMPANY', 'IRIS.BUS', 'EUNOS',\n",
              "       'MAZDA CX-7 SPORT TECH D', 'CATERHAM SUPER SEVEN', 'CCM',\n",
              "       'BMW MINI COOPER 1.6L', 'SMART MCC', 'SWERDNA', 'MZ', 'ITALJET',\n",
              "       'AUDI A5 S LINE TDI QUATTRO', 'SWM', 'WOLSELEY', 'JENSEN', 'DUFFY',\n",
              "       'QINGQI', 'VOLKSWAGEN POLO TREND 1,4L', 'PEUGEOT AUTOSLEEPER',\n",
              "       'AC', 'PIONEER', 'VOLKSWAGEN POLO BASE 1.4L', 'MITSUOKA',\n",
              "       'MINI COOPER D', 'PGO', 'ALEXANDER DENNIS', 'ROBIN HOOD',\n",
              "       'VOLKSWAGEN MOVE UP BLUEMOTION TECHNOLOGY', 'ZERO MOTORCYCLES',\n",
              "       'WILDAX SOLARIS XL', 'BASHAN', 'PEUGEOT 508 ALLURE SW HDI',\n",
              "       'DUFFY E220 BLUETEC', 'BENELLI', 'GARDNER DOUGLAS 427',\n",
              "       'LUNAR ROADSTER EL', 'HUMBER',\n",
              "       'LANDROVER RANGEROVER AUTOBIOGRAPHYV85L', 'BRITISH TRACKSTAR',\n",
              "       'PEUGEOT PARTNER 9O 1.6 HDI', 'INDIAN MOTORCYCLE', 'REWACO',\n",
              "       'FANTIC MOTOR', 'SMART FORTWO BRABUS XCLUSIVE A',\n",
              "       'SMART FORTWO PURE 61 MHD AUTO', 'QUANTUM', 'SANTANA',\n",
              "       'LIFAN HONGDA', 'BSA', 'TAIWAN GOLDEN BEE CU8 125', 'GARDENER',\n",
              "       'MERCEDES BENZ', 'FISHER', 'AUTO-SLEEPERS', 'TRITON', 'MOTOR HOME',\n",
              "       'HONDA BIG RED', 'VAUXHALL ASTRA SRI VX-LINE CDTI AUTO', 'SECMA',\n",
              "       'NG TF ROADSTER', 'NISSAN ELGRAND', 'LANDROVER', 'HUMMER',\n",
              "       'TRIUMPH TR4', 'MUSTANG GT', 'BMW 330D SE A',\n",
              "       'ELDDIS MAJESTIC 105', 'MB 311CDI SPRINTER', 'NORTON',\n",
              "       'HARLEY-DAVIDSON XL 1200 X FORTY EIGHT 12', 'CI MOTORHOME',\n",
              "       'SCANIA', 'TATA', 'AC (ELECTRIC)', 'HONDA CIVIC CRX ESI VTEC 1.6L',\n",
              "       'LAND ROVER RANGE ROVER SPORT TDV6 2.7L',\n",
              "       'LAND ROVER DISCOVERY3 TDV6 SE 2.7L', 'HOLDEN',\n",
              "       'MCLAREN 650 SPIDER', 'MALAGUTI', 'FORD KA EDGE', 'IVECO FORD',\n",
              "       'HARLEY-DAVIDSON FLHTCU EGLIDE UC 1690 12', 'DFSK LOAD HOPPER VAN',\n",
              "       'LEYLAND', 'DAX', 'APRILLA RS4 125 4T', 'SCOOTERS INDIA LTD',\n",
              "       'ZHENHUA', 'ARTISAN', 'BAILEY APPROACH', 'DUCATI 916S', 'CF MOTO',\n",
              "       'BANTAM TRIALS', 'MITSABISHI', 'OPTARE', 'AUSTIN MORRIS',\n",
              "       '288 GT REPLICA', 'VAUXHALL ASTRA SRI CDTI', 'ADRIA COMPACT SP',\n",
              "       'BMW M5 AUTO', 'VANY START V114', 'ALPINA B5 BITURBO',\n",
              "       'KENSINGTON 175', 'LIFAN', 'DARRIAN', 'MERCADES',\n",
              "       'HARLEY-DAVIDSON FLHTC EGLIDE CL 1690 12', 'DUFFY E250 CDI',\n",
              "       'LEARNERLEGAL', 'GWIZ', 'ROVIGO', 'MADNESS', 'DINLI', 'STEYR/PUCH',\n",
              "       'AUTOSLEEPERS', 'MASH', 'LAND ROVER RANGE ROVER EVOQUE SD4 2.2L ',\n",
              "       'IMPERIAL', 'COUMAC', 'LINCOLN',\n",
              "       'MERCEDES BENZ SPRINTER 313 CDI 2.2L', 'CARACOMPACT 600 MEG',\n",
              "       'VESPA 100 SPORT', 'TRS', 'BENIMAR MILEO 313', 'MB311CDI', 'JBA',\n",
              "       'ROBINHOOD', 'QUANTIM', 'NOBLE',\n",
              "       'SMART FORTWO ICESHINE EDITION MHD A', 'MARCOS', 'GORDON KEEBLE',\n",
              "       'ISUZU TRUCKS GRAFTER N35.150', 'NSU', 'HERALD', 'SUKIDA', 'T&J',\n",
              "       'EXPLORER GROUP LTD', 'YAMASAKI ZORRO YM50', 'DC KIT CARS',\n",
              "       'BMW 740D M SPORT LUXURY EDITION A', 'KINROAD',\n",
              "       'MITSUBISHI L200 TROJAN DCB DI-D 4X4', 'CAN-AM', 'REGENT',\n",
              "       'BENIMAR MILEO 286', 'BESSACARR', 'BYD E6Y', 'POLARIS', 'TIGER',\n",
              "       'MINI ONE', 'ALPINA', 'BIMOTA', 'STX MASTER HORSEBOX', 'ACCESS',\n",
              "       'CITROEN 2CV6 600 CHARLESTON', 'SMART FORTWO PULSE CDI AUTO',\n",
              "       'VOLKSWAGEN GOLF TREND 1.9 TDI',\n",
              "       'VAUXHALL INSIGNIA SRI CDTI ECOFLEX S/S', 'FORD FIESTA EDGE 82',\n",
              "       'FORD/DAMON', 'SUNBEAM', 'PERIPOLI', 'WILDAX MOTORHOMES',\n",
              "       'BENIMAR', 'ENFIELD', 'LEYLAND CARS',\n",
              "       'MOTER HOME MERCEDES SPRINTER', 'ELDDIS SIGNATURE 196',\n",
              "       'RAPIDO DUCATO VAN', 'LAND ROVER FREELANDER 2 SD4 HSE 2.2L',\n",
              "       'BRADSHAW G4 SG42', 'BMW 530D M SPORT AUTO', 'VOLKSWAGEN HIGH UP',\n",
              "       'BRANSON', 'SKAD 125T', 'WUYANG', 'VOLKSWAGEN POLO COMFORT 1.4L',\n",
              "       'NEVAL', 'SHINERAY', 'COLEMAN MILNE',\n",
              "       'HARLEY-DAVIDSON 1200 CUSTOM LTD XL CA 13', 'GOWRINGS MOBILITY',\n",
              "       'DELOREAN', 'SUPERBYKE', 'TRABANT', 'CARBODIES',\n",
              "       'LONDON TAXI COMPANY', 'PILOTE', 'MONACO', 'STREET SCOOTER WORKL',\n",
              "       'SAKURA EV1200', 'ATX240E', 'TOYOTA PRIUS T SPIRIT VVT-I CVT',\n",
              "       'DENNIS', 'HOLDEN GTS', 'GILBERN', 'DUCATO ADRIA MOBIL',\n",
              "       'LUNAR LANDSTAR EWS', 'AUDI Q7 QUATTRO SPORTLINE  V6  TDI',\n",
              "       'PEUGEOT EXPERT E7SE', 'TRANSBUS INT', 'LAVERDA',\n",
              "       'ISUZU D-MAX YUKON VISION D/C TD AUTO', 'VMOTO', 'MOSS', 'KUBOTA',\n",
              "       'STEYR', 'CHESIL', 'TRS TRSRR', 'HUSABERG', 'VAUXHALL CORSA SE',\n",
              "       'MONDIAL', 'HISUN HS350', 'LAND ROVER RANGE ROVER SPORT TDV6 HSE',\n",
              "       'CM DORCHESTER', 'FORD FIESTA TITANIUM', 'MBK',\n",
              "       'LEYLAND DAF FA 45 130', 'VOLKSWAGEN POLO BASE 1.2 55BHP',\n",
              "       'BENIMAR MILEO 202', 'LAND ROVER RANGE ROVER EVOQUE TD4 SE 2L',\n",
              "       'OLDSMOBILE', 'GARDENER DOUGLAS', 'BAILEY',\n",
              "       'CITROEN 2CV6 SPECIAL 600', 'FORD FIESTA ZETEC',\n",
              "       'RENAULT TRUCKS MASTER 135.35 C LWB', 'NG TF',\n",
              "       'FORD FIESTA EDGE TDCI 70', 'YAMASAK', 'FIAT 500 S 1.4L', 'KNAUS',\n",
              "       'STOMP Z3140', 'FRANCIS BARNETT', 'ARIEL', 'FQHL E220', 'TAIZHOU',\n",
              "       'WILLYS JEEP', 'LAND ROVER DISCOVERY TD5 2.5L', 'GULF STREAM',\n",
              "       'SMART MCC CDI', 'BOOM', 'KAZUMA', 'STANDARD', 'SUN LIVING',\n",
              "       'BEELINE', 'HUONIAO', 'FORD TRANSIT', 'FORD DORCHESTER',\n",
              "       'LAND ROVER RANGE ROVER SPORT HSE SDV6 ',\n",
              "       'VAUXHALL VIVARO CDTI 2900 2.0L', 'STARLET GLANZA V',\n",
              "       'BMW X5 XDRIVE30D M SPORT AUTO', 'BENTLEY CONTINENTAL GTC AUTO',\n",
              "       'BMW 118D M SPORT', 'AEON', 'FANTIC', 'FIAT LAIKA',\n",
              "       'MDV STEALTH BUGGY', 'BMW 116D M SPORT AUTO', 'BAVARIA', 'YCF',\n",
              "       'JAGO', 'ERIDER', 'HARLEY-DAVIDSON STREET BOB FXDB 1584 13',\n",
              "       'SPY 350F1', 'HOBBY', 'STEYRDAIMLERPUCH', 'CFMOTO',\n",
              "       'STREET SCOOTER WORK', 'FORD CARDINALCLASSIC',\n",
              "       'VAUXHALL INSIGNIA EXCLUSIV', 'AUSTEL',\n",
              "       'LAND ROVER RANGE ROVER SP HSE TDV6 A', 'AUTOGRAPH 796', 'APACHE',\n",
              "       'HOBBY OPTIMA T65 FL', 'VOLKSWAGEN TIGUAN SPORT TSI  1.4BMT',\n",
              "       'VOLKSWAGEN POLO TREND  1.4L', 'TOMOS', 'HUSQVANA',\n",
              "       'CATERHAM SUPERSPORT', 'SCOMADI TL125', 'ARMSTRONG', 'DE TOMASO',\n",
              "       'DETHLEFFS', 'HOBBY 750 HUCC', 'SUNLIGHT T67',\n",
              "       'PEUGEOT 208 ACTIVE',\n",
              "       'MERCEDES-BENZ CLS250 CDI AMG BLUE-CY SPORT A', 'OSSA', 'SHERCO',\n",
              "       'MK', 'ROMET MOTORS', 'SEAT IBIZA SPORT 16V 1.4L',\n",
              "       'DIRECTBIKESZN50QT-11', 'COSSACK', 'RILEY', 'SCORPA', 'MOTO WR250',\n",
              "       'LTI VRS LTD TX4 LPG', 'BEETLE', 'SUNLIGHT A68', 'ARIIC',\n",
              "       'TRIGANO', 'STOMP', 'PORSCH', 'VOLKSWAGON', 'BMW 320D M SPORT 181',\n",
              "       'JINLING', 'KARNATAKA SCOOTERS LTD',\n",
              "       'LANDROVER RANGEROVER SPORT AUTOBIOGRAPH', 'MCLOUIS MC4 379',\n",
              "       'CARTHAGO C-TOURER150', 'ACURA', 'RICKMEN', 'KURZ RT1', 'BEAUFORD',\n",
              "       'LANDROVER RANGE ROVER VOGUE SE TDV8 3.6',\n",
              "       'VOLKSWAGEN CADDY C20 TDI 1.6L', 'HILLMAN', 'DAF', 'TM', 'RAPIDO',\n",
              "       'DUTTON SURF', 'TRAIL LIGHT', 'VOLKSWAGEN MOVE UP', 'SUNLIGHT',\n",
              "       'URAL', 'NECHT', 'PEUGEOT 207 VERVE 1.4L', 'DIRECTBIKES DB125T-E',\n",
              "       'SANYA', 'BOMBARDIER', 'HONLEY', 'GBS', 'YAMASAKI YM50-9',\n",
              "       'HAMMERHEAD', 'HYUNDAI I30 COMFORT CRDI 16V 1.6L', 'AUSTIN HEALEY',\n",
              "       'DODGE RAM 1500 RT', 'VOLKSWAGEN GOLF CL 1.9L',\n",
              "       'LAND ROVER EVOQUE SD4 2.2L', 'UNCLASSIFIED', 'AUSTIN-MORRIS',\n",
              "       'BONKERS', 'BMW 318D ES TOURING', 'FREIGHT ROVER',\n",
              "       'BMW 320I M SPORT', 'PRAGA', 'HONDA JAZZ  1.4L', 'ALVIS',\n",
              "       'HYUNDAI IX35 PREMIUM 2WD CRDI', 'PORSCHE BOXSTER', 'AIE',\n",
              "       'BURSTNER IXEO 590', 'DETHLEFFS GLOBEBUS', 'NG', 'DI BLASI',\n",
              "       'FEIYING', 'VULCAN', 'TRIBUTE', 'BMW 118D EXCLUSIVE EDITION AUTO',\n",
              "       'RENAULT GRAND MODUS DYNAMIQE 1.6',\n",
              "       'LANDROVER FREELANDER 2 HSE TD4', 'MONARCH', 'WANGYE WY125T-108',\n",
              "       'ERWIN HYMER GROUP', 'UMM', 'BAROSSA',\n",
              "       'VOLKSWAGEN POLO TREND 1.2L', 'AUTO-SLEEPERS SYMBOL',\n",
              "       'GRAND ROVER VOYAGER', 'BMW ALPINA', 'CITROEN C3 SELECTION',\n",
              "       'MERCEDES SLK 200 KOMPRESSOR',\n",
              "       'VOLKSWAGEN TR-SPORTER T28 84 TDI SWB', 'STREETSCOOTER',\n",
              "       'MERCEDES-BENZ SLK250 AMG SPORT CDI BLUE-CY A', 'FIAT DUCATO',\n",
              "       'ITINEO', 'ELGRAND HIGHWAY STAR', 'GLOBECAR ROADSCOUT R',\n",
              "       'LUNAR LANDSTAR RL', 'ALPINA D3 B1 TURBO',\n",
              "       'LANDROVER FREELANDER TD4 2.0L', 'JIAYUAN EV', 'GULF STREEM',\n",
              "       'PREYING MANTIS', 'SCOMADI TL50', 'THORACE', 'ARCTIC CAT',\n",
              "       'FENIAN', 'JONWAY', 'SMART FORTWO ICESHINE EDITION AUTO', 'MERLIN',\n",
              "       'SPYKER', 'MNR VORTX', 'TOYOTA COROLLA T3 16V VVT-I 1.6L',\n",
              "       'HARLEYDAVIDSON MT500', 'TRIPOD', 'JOHN DEERE',\n",
              "       'IVECO DAILY CAMPER', 'BEROSA', 'MAHINDRA',\n",
              "       'AUDI A3 SPORTBACK TDI 1.9L', 'GULFSTREAM', 'VAUXHALL ASTRA 1.4L',\n",
              "       'MERCEDES-BENZ C63 AMG AUTO', 'FORD S-MAX  ZETEC TDCI 2.0L',\n",
              "       'NISSAN QASHQAI ACENTA DCI', 'MERCEDES BENZ C220 CDI 2.2L', 'ADLY',\n",
              "       'ALLEGRO', 'PILGRIM', 'PANTHER', 'MEV DS', 'HONGDOU',\n",
              "       'AUTOSLEEPERS WARWICK', 'SUSUKI', 'FIAT CHAUSSON',\n",
              "       'WESTFIELD SE1W', 'LINTEX HT50QT-16', 'TOYOTA VELLFIRE',\n",
              "       'VELOCETTE L.E.MK3', 'JEEP GRAND CHEROKEE OVERLAND CRD A',\n",
              "       'GOUPIL', 'FIAT BURSTNER DUCATO', 'BEUFORD', 'MERCEDES 412',\n",
              "       'SUNRA XR-EM45 FALCON', 'JAWA'], dtype=object)"
            ]
          },
          "metadata": {},
          "execution_count": 14
        }
      ]
    },
    {
      "cell_type": "code",
      "source": [
        "# Create filter\n",
        "mask = df.make.str.lower().str.contains('ford')"
      ],
      "metadata": {
        "id": "LV2dszdaamTO"
      },
      "execution_count": 15,
      "outputs": []
    },
    {
      "cell_type": "code",
      "source": [
        "# Check filter\n",
        "df.loc[mask, 'make'].unique()"
      ],
      "metadata": {
        "colab": {
          "base_uri": "https://localhost:8080/"
        },
        "id": "O5_VuwWRa_LW",
        "outputId": "8f178511-eb9c-488e-eaca-572fc2a3b8f5"
      },
      "execution_count": 16,
      "outputs": [
        {
          "output_type": "execute_result",
          "data": {
            "text/plain": [
              "array(['FORD', 'IVECO-FORD', 'BEDFORD', 'FORD KA EDGE', 'IVECO FORD',\n",
              "       'FORD FIESTA EDGE 82', 'FORD/DAMON', 'FORD FIESTA TITANIUM',\n",
              "       'FORD FIESTA ZETEC', 'FORD FIESTA EDGE TDCI 70', 'FORD TRANSIT',\n",
              "       'FORD DORCHESTER', 'FORD CARDINALCLASSIC', 'BEAUFORD',\n",
              "       'FORD S-MAX  ZETEC TDCI 2.0L', 'BEUFORD'], dtype=object)"
            ]
          },
          "metadata": {},
          "execution_count": 16
        }
      ]
    },
    {
      "cell_type": "code",
      "source": [],
      "metadata": {
        "id": "1k6WacHdbETK"
      },
      "execution_count": null,
      "outputs": []
    }
  ]
}