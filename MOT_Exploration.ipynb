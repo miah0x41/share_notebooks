{
  "nbformat": 4,
  "nbformat_minor": 0,
  "metadata": {
    "colab": {
      "provenance": []
    },
    "kernelspec": {
      "name": "python3",
      "display_name": "Python 3"
    },
    "language_info": {
      "name": "python"
    }
  },
  "cells": [
    {
      "cell_type": "code",
      "execution_count": 3,
      "metadata": {
        "colab": {
          "base_uri": "https://localhost:8080/"
        },
        "id": "--NZxFwHnVX9",
        "outputId": "be5c5ee4-2914-4329-dd35-eeb69fc2c8d2"
      },
      "outputs": [
        {
          "output_type": "stream",
          "name": "stdout",
          "text": [
            "/content\n"
          ]
        }
      ],
      "source": [
        "# Check local directory\n",
        "!pwd"
      ]
    },
    {
      "cell_type": "code",
      "source": [
        "# Download data\n",
        "!wget https://data.dft.gov.uk/anonymised-mot-test/test_data/dft_test_result_2022.zip "
      ],
      "metadata": {
        "colab": {
          "base_uri": "https://localhost:8080/"
        },
        "id": "RrQtmEHmndng",
        "outputId": "b6a77fa8-a9c5-4922-9f75-8f2711a03513"
      },
      "execution_count": 4,
      "outputs": [
        {
          "output_type": "stream",
          "name": "stdout",
          "text": [
            "--2023-06-04 08:56:52--  https://data.dft.gov.uk/anonymised-mot-test/test_data/dft_test_result_2022.zip\n",
            "Resolving data.dft.gov.uk (data.dft.gov.uk)... 34.117.178.183\n",
            "Connecting to data.dft.gov.uk (data.dft.gov.uk)|34.117.178.183|:443... connected.\n",
            "HTTP request sent, awaiting response... 200 OK\n",
            "Length: 1177620475 (1.1G) [application/x-zip-compressed]\n",
            "Saving to: ‘dft_test_result_2022.zip’\n",
            "\n",
            "dft_test_result_202 100%[===================>]   1.10G  38.6MB/s    in 29s     \n",
            "\n",
            "2023-06-04 08:57:22 (38.4 MB/s) - ‘dft_test_result_2022.zip’ saved [1177620475/1177620475]\n",
            "\n"
          ]
        }
      ]
    },
    {
      "cell_type": "code",
      "source": [
        "# Check file\n",
        "!ls"
      ],
      "metadata": {
        "colab": {
          "base_uri": "https://localhost:8080/"
        },
        "id": "I39YKolBn6em",
        "outputId": "c8b78026-f14d-447f-ef3f-0d84ed631c5c"
      },
      "execution_count": 1,
      "outputs": [
        {
          "output_type": "stream",
          "name": "stdout",
          "text": [
            "dft_test_result_2022.zip  __MACOSX  sample_data  test_result.csv\n"
          ]
        }
      ]
    },
    {
      "cell_type": "code",
      "source": [
        "# Unzip\n",
        "!unzip dft_test_result_2022.zip"
      ],
      "metadata": {
        "colab": {
          "base_uri": "https://localhost:8080/"
        },
        "id": "xZGkqiDuoAyX",
        "outputId": "91923ea5-9272-4594-803b-00a1e323489c"
      },
      "execution_count": 6,
      "outputs": [
        {
          "output_type": "stream",
          "name": "stdout",
          "text": [
            "Archive:  dft_test_result_2022.zip\n",
            "  inflating: test_result.csv         \n",
            "  inflating: __MACOSX/._test_result.csv  \n"
          ]
        }
      ]
    },
    {
      "cell_type": "code",
      "source": [
        "# Check file\n",
        "!ls -lh"
      ],
      "metadata": {
        "colab": {
          "base_uri": "https://localhost:8080/"
        },
        "id": "yUsiMp_woMKz",
        "outputId": "b85ba282-76c5-4b8e-bc4b-b0c1b0a3f885"
      },
      "execution_count": 9,
      "outputs": [
        {
          "output_type": "stream",
          "name": "stdout",
          "text": [
            "total 4.5G\n",
            "-rw-r--r-- 1 root root 1.1G Jun  4 08:57 dft_test_result_2022.zip\n",
            "drwxr-xr-x 2 root root 4.0K Jun  4 08:58 __MACOSX\n",
            "drwxr-xr-x 1 root root 4.0K Jun  1 22:51 sample_data\n",
            "-rw-r--r-- 1 root root 3.4G Mar 14 09:13 test_result.csv\n"
          ]
        }
      ]
    },
    {
      "cell_type": "code",
      "source": [
        "# Count lines\n",
        "!cat test_result.csv | wc -l"
      ],
      "metadata": {
        "colab": {
          "base_uri": "https://localhost:8080/"
        },
        "id": "F3WBNwmGpjz-",
        "outputId": "78a73639-a0b7-4f8d-d1b1-12fc623abda8"
      },
      "execution_count": 2,
      "outputs": [
        {
          "output_type": "stream",
          "name": "stdout",
          "text": [
            "41632231\n"
          ]
        }
      ]
    },
    {
      "cell_type": "code",
      "source": [
        "# Sample\n",
        "!head -n 100000 > sample.csv"
      ],
      "metadata": {
        "id": "0WTsJwu6pjMV"
      },
      "execution_count": null,
      "outputs": []
    },
    {
      "cell_type": "code",
      "source": [
        "# Check imports\n",
        "import pandas as pd"
      ],
      "metadata": {
        "id": "OrpeCyJSoFgo"
      },
      "execution_count": null,
      "outputs": []
    },
    {
      "cell_type": "code",
      "source": [
        "# Preview file\n",
        "!head test_result.csv"
      ],
      "metadata": {
        "colab": {
          "base_uri": "https://localhost:8080/"
        },
        "id": "q79ZfpbNowOx",
        "outputId": "3cf29968-6af5-47b9-9876-6ef888f33eef"
      },
      "execution_count": 11,
      "outputs": [
        {
          "output_type": "stream",
          "name": "stdout",
          "text": [
            "test_id|vehicle_id|test_date|test_class_id|test_type|test_result|test_mileage|postcode_area|make|model|colour|fuel_type|cylinder_capacity|first_use_date\n",
            "334683447|634775234|2022-01-01|4|NT|P|227219|E|TOYOTA|PRIUS|SILVER|Hybrid Electric (Clean)|1497|2008-01-17\n",
            "586095521|1220215709|2022-01-01|4|NT|P|136552|CR|TOYOTA|PRIUS|GREY|Hybrid Electric (Clean)|1798|2013-11-29\n",
            "960974211|1315791989|2022-01-01|4|NT|F|129847|E|TOYOTA|PRIUS|WHITE|Hybrid Electric (Clean)|1798|2018-01-01\n",
            "1041792341|1144451355|2022-01-01|4|NT|P|123133|TW|TOYOTA|PRIUS|SILVER|Hybrid Electric (Clean)|1496|2016-11-21\n",
            "1587264975|1315791989|2022-01-01|4|RT|P|129848|E|TOYOTA|PRIUS|WHITE|Hybrid Electric (Clean)|1798|2018-01-01\n",
            "1032834657|1310098304|2022-01-01|4|NT|PRS|238117|IG|TOYOTA|PRIUS|BLACK|Hybrid Electric (Clean)|1798|2012-06-29\n",
            "51919479|483214935|2022-01-01|4|NT|P|110322|E|TOYOTA|PRIUS|SILVER|Hybrid Electric (Clean)|1800|2017-04-01\n",
            "1616476935|1262912232|2022-01-01|4|NT|P|161933|BD|TOYOTA|PRIUS|SILVER|Hybrid Electric (Clean)|1497|2005-12-30\n",
            "640040599|302221893|2022-01-01|4|NT|P|47101|IG|TOYOTA|PRIUS|SILVER|Hybrid Electric (Clean)|1797|2016-06-28\n"
          ]
        }
      ]
    },
    {
      "cell_type": "code",
      "source": [
        "# Read file\n",
        "%%time\n",
        "\n",
        "df = pd.read_csv('sample.csv', sep='|')"
      ],
      "metadata": {
        "id": "a2sASYyyoJoX"
      },
      "execution_count": null,
      "outputs": []
    },
    {
      "cell_type": "code",
      "source": [
        "# Preview\n",
        "df.head()"
      ],
      "metadata": {
        "id": "dYb1EkOLopZ4"
      },
      "execution_count": null,
      "outputs": []
    },
    {
      "cell_type": "code",
      "source": [],
      "metadata": {
        "id": "FmLQvkAaqH7-"
      },
      "execution_count": null,
      "outputs": []
    }
  ]
}